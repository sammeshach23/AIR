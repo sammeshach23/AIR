{
  "nbformat": 4,
  "nbformat_minor": 0,
  "metadata": {
    "colab": {
      "provenance": []
    },
    "kernelspec": {
      "name": "python3",
      "display_name": "Python 3"
    },
    "language_info": {
      "name": "python"
    }
  },
  "cells": [
    {
      "cell_type": "markdown",
      "source": [
        "# Turtlebot3 Simulation\n"
      ],
      "metadata": {
        "id": "QTWxpxhsvQZI"
      }
    },
    {
      "cell_type": "markdown",
      "source": [
        "**Step 1: Install ROS and TurtleBot Packages**\n",
        "\n",
        "Make sure you have ROS installed on your system. You'll also need to install TurtleBot-related packages:"
      ],
      "metadata": {
        "id": "YpC25JjzwaHf"
      }
    },
    {
      "cell_type": "markdown",
      "source": [
        "*italicized text*\n",
        "```\n",
        "sudo apt-get update\n",
        "sudo apt-get install ros-noetic-turtlebot3 ros-noetic-turtlebot3-simulations\n",
        "```\n",
        "\n"
      ],
      "metadata": {
        "id": "eVOJbMCtwfKO"
      }
    },
    {
      "cell_type": "markdown",
      "source": [
        "Replace noetic with your ROS version (e.g., melodic, kinetic) if you're using a different version."
      ],
      "metadata": {
        "id": "3XCOXET4xBSM"
      }
    },
    {
      "cell_type": "code",
      "source": [],
      "metadata": {
        "id": "LcKDPW_plDrQ"
      },
      "execution_count": null,
      "outputs": []
    },
    {
      "cell_type": "markdown",
      "source": [
        "**Step 2: Set Up Environment Variables**\n",
        "\n",
        "Set the environment variables for the TurtleBot model. Add these lines to your .bashrc file:"
      ],
      "metadata": {
        "id": "vcEPOlSsxDWq"
      }
    },
    {
      "cell_type": "markdown",
      "source": [
        "\n",
        "\n",
        "```\n",
        "echo \"export TURTLEBOT3_MODEL=burger\" >> ~/.bashrc\n",
        "source ~/.bashrc\n",
        "```\n",
        "\n"
      ],
      "metadata": {
        "id": "sROVdylDxNbJ"
      }
    },
    {
      "cell_type": "markdown",
      "source": [
        "**Step 3: Download the URDF File**\n",
        "\n",
        "The URDF files for TurtleBot3 are included in the turtlebot3_description package. You can view them directly:"
      ],
      "metadata": {
        "id": "zTCP7LJ4xioN"
      }
    },
    {
      "cell_type": "markdown",
      "source": [
        "\n",
        "\n",
        "```\n",
        "cd ~/catkin_ws/src\n",
        "git clone https://github.com/ROBOTIS-GIT/turtlebot3.git\n",
        "```\n",
        "\n"
      ],
      "metadata": {
        "id": "W5nYh43xxRaG"
      }
    },
    {
      "cell_type": "markdown",
      "source": [
        "The URDF files are located in the following directory:\n",
        "\n",
        "\n",
        "```\n",
        "cd ~/catkin_ws/src/turtlebot3/turtlebot3_description/urdf\n",
        "```\n",
        "\n"
      ],
      "metadata": {
        "id": "QXmRUtTgyv1r"
      }
    },
    {
      "cell_type": "markdown",
      "source": [
        "**Step 4: Open the URDF in Gazebo**\n",
        "\n",
        "You can directly load the TurtleBot into Gazebo using the provided launch files.\n",
        "\n",
        "Launch the TurtleBot in an empty world:\n",
        "\n",
        "\n",
        "```\n",
        "roslaunch turtlebot3_gazebo turtlebot3_empty_world.launch\n",
        "```\n",
        "\n"
      ],
      "metadata": {
        "id": "QPV4KSxG4x3X"
      }
    },
    {
      "cell_type": "markdown",
      "source": [
        "Launch the TurtleBot in a predefined world (e.g., TurtleBot3 World):\n",
        "\n",
        "\n",
        "```\n",
        "roslaunch turtlebot3_gazebo turtlebot3_world.launch\n",
        "```\n",
        "\n",
        "Custom URDF File in Gazebo:\n",
        "If you've modified the URDF or want to load a specific URDF file into Gazebo:\n",
        "   Create a custom launch file or edit an existing one. For example, you can create a new launch file in your package:\n",
        "\n",
        "\n",
        "```\n",
        "mkdir -p ~/catkin_ws/src/my_turtlebot3_simulation/launch\n",
        "touch ~/catkin_ws/src/my_turtlebot3_simulation/launch/custom_turtlebot3.launch\n",
        "```\n",
        "Add the following content to custom_turtlebot3.launch:\n",
        "\n",
        "\n",
        "```\n",
        "<launch>\n",
        "    <param name=\"robot_description\" command=\"$(find xacro)/xacro '$(find turtlebot3_description)/urdf/turtlebot3_burger.urdf.xacro'\" />\n",
        "    <node name=\"gazebo\" pkg=\"gazebo_ros\" type=\"gazebo\" args=\"-urdf -param robot_description -world $(find gazebo_ros)/worlds/empty.world\" />\n",
        "    <node name=\"spawn_urdf\" pkg=\"gazebo_ros\" type=\"spawn_model\" args=\"-param robot_description -model turtlebot3\" />\n",
        "</launch>\n",
        "```\n",
        "\n",
        "\n",
        "\n"
      ],
      "metadata": {
        "id": "afklVAO552LX"
      }
    },
    {
      "cell_type": "markdown",
      "source": [
        "Run the custom launch file:\n",
        "\n",
        "\n",
        "```\n",
        "roslaunch my_turtlebot3_simulation custom_turtlebot3.launch\n",
        "```\n",
        "\n"
      ],
      "metadata": {
        "id": "mUXSjMAa6XkF"
      }
    },
    {
      "cell_type": "markdown",
      "source": [
        "**Step 5: Control the TurtleBot in Gazebo**\n",
        "\n",
        "Once the TurtleBot is loaded in Gazebo, you can control it using teleoperation:\n",
        "\n",
        "\n",
        "```\n",
        "roslaunch turtlebot3_teleop turtlebot3_teleop_key.launch\n",
        "\n",
        "```\n",
        "This will allow you to control the TurtleBot using the keyboard.\n"
      ],
      "metadata": {
        "id": "Ieo6ohkI6gqe"
      }
    },
    {
      "cell_type": "markdown",
      "source": [
        "**Step 6: Visualization in RViz (Optional)**\n",
        "\n",
        "To visualize the TurtleBot and sensor data in RViz:\n",
        "\n",
        "\n",
        "\n",
        "```\n",
        "roslaunch turtlebot3_gazebo turtlebot3_gazebo_rviz.launch\n",
        "\n",
        "```\n",
        "\n",
        "\n",
        "<launch> Tag\n",
        "\n",
        "  Purpose: The root tag that contains all other elements in the launch file.\n",
        "\n",
        "<arg> Tags\n",
        "\n",
        "    <arg name=\"model\" default=\"$(env TURTLEBOT3_MODEL)\" doc=\"model type [burger, waffle, waffle_pi]\"/>\n",
        "      Purpose: Defines a launch file argument model that specifies which TurtleBot3 model to use (burger, waffle, or waffle_pi). The default value is taken from the environment variable TURTLEBOT3_MODEL.\n",
        "    <arg name=\"x_pos\" default=\"0.0\"/>, <arg name=\"y_pos\" default=\"0.0\"/>, <arg name=\"z_pos\" default=\"0.0\"/>\n",
        "      Purpose: Set the default position (x, y, z) where the TurtleBot3 robot will be spawned in the Gazebo world. Default is at the origin (0,0,0).\n",
        "\n",
        "<include> Tag\n",
        "\n",
        "  Purpose: Includes and runs another launch file, in this case, the empty_world.launch file from the gazebo_ros package.\n",
        "\n",
        "    <arg name=\"world_name\" value=\"$(find turtlebot3_gazebo)/worlds/empty.world\"/>\n",
        "      Purpose: Specifies the path to the world file to load in Gazebo, in this case, the empty world from the turtlebot3_gazebo package.\n",
        "\n",
        "    <arg name=\"paused\" value=\"false\"/>\n",
        "      Purpose: Specifies whether the simulation should start in a paused state. false means the simulation starts running immediately.\n",
        "\n",
        "    <arg name=\"use_sim_time\" value=\"true\"/>\n",
        "        Purpose: Tells ROS to use simulation time (simulated clock) instead of real time.\n",
        "\n",
        "    <arg name=\"gui\" value=\"true\"/>\n",
        "        Purpose: Indicates whether to start Gazebo with its graphical user interface (GUI).\n",
        "\n",
        "    <arg name=\"headless\" value=\"false\"/>\n",
        "        Purpose: Specifies whether to run Gazebo in headless mode (without GUI). false means the GUI will be used.\n",
        "\n",
        "    <arg name=\"debug\" value=\"false\"/>\n",
        "        Purpose: Specifies whether to start Gazebo in debug mode. false means no debugging.\n",
        "\n",
        "<param> Tag\n",
        "\n",
        "    <param name=\"robot_description\" command=\"$(find xacro)/xacro --inorder $(find turtlebot3_description)/urdf/turtlebot3_$(arg model).urdf.xacro\" />\n",
        "        Purpose: Loads the TurtleBot3 URDF (Unified Robot Description Format) into the ROS parameter server. The xacro command processes the .xacro file to generate the URDF. The model used is based on the argument model.\n",
        "\n",
        "<node> Tag\n",
        "\n",
        "    <node pkg=\"gazebo_ros\" type=\"spawn_model\" name=\"spawn_urdf\" args=\"-urdf -model turtlebot3_$(arg model) -x $(arg x_pos) -y $(arg y_pos) -z $(arg z_pos) -param robot_description\" />\n",
        "        Purpose: Spawns the TurtleBot3 model in the Gazebo simulation using the URDF loaded into the robot_description parameter. The model is spawned at the position defined by x_pos, y_pos, and z_pos.\n"
      ],
      "metadata": {
        "id": "7RrgWS3r6vmS"
      }
    },
    {
      "cell_type": "markdown",
      "source": [
        "**LiDAR Mapping**\n",
        "\n",
        "1.TurtleBot3 Packages: Make sure the TurtleBot3 packages are installed. You can install them using:\n",
        "```\n",
        "sudo apt-get install ros-noetic-turtlebot3 ros-noetic-turtlebot3-simulations\n",
        "\n",
        "```\n",
        "\n",
        "2.First, define the TurtleBot3 model you're using. In the terminal, set the environment variable:\n",
        "```\n",
        "export TURTLEBOT3_MODEL=burger\n",
        "\n",
        "```\n",
        "\n",
        "3.First, define the TurtleBot3 model you're using. In the terminal, set the environment variable:\n",
        "```\n",
        "roslaunch turtlebot3_gazebo turtlebot3_world.launch\n",
        "\n",
        "```\n",
        "\n",
        "\n",
        "4.For LiDAR-based mapping, use the slam_gmapping package:\n",
        "```\n",
        "roslaunch turtlebot3_slam turtlebot3_slam.launch slam_methods:=gmapping\n",
        "\n",
        "```\n",
        "\n",
        "\n",
        "5.You can control the TurtleBot3 manually to explore the environment using teleop:\n",
        "Use the keyboard to move the robot around. As the TurtleBot3 moves, the SLAM algorithm will generate a map based on the LiDAR data.\n",
        "```\n",
        "roslaunch turtlebot3_teleop turtlebot3_teleop_key.launch\n",
        "\n",
        "```\n",
        "\n",
        "6.To visualize the map in real-time, you can use rviz:\n",
        "\n",
        "```\n",
        "roslaunch turtlebot3_slam turtlebot3_slam.launch\n",
        "\n",
        "```\n",
        "\n",
        "\n",
        "\n"
      ],
      "metadata": {
        "id": "PJqWHz4S216a"
      }
    },
    {
      "cell_type": "code",
      "source": [],
      "metadata": {
        "id": "RaIxBbmEvzfc"
      },
      "execution_count": null,
      "outputs": []
    }
  ]
}